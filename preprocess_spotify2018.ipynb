{
 "cells": [
  {
   "cell_type": "code",
   "execution_count": null,
   "metadata": {
    "id": "XUzshDR5ZIfF"
   },
   "outputs": [],
   "source": [
    "import pandas as pd\n",
    "import numpy as np"
   ]
  },
  {
   "cell_type": "code",
   "execution_count": null,
   "metadata": {
    "colab": {
     "base_uri": "https://localhost:8080/"
    },
    "id": "zGTxjQ8gZL7N",
    "outputId": "db7f1405-f115-4d37-c3b0-51bcb3822f6c"
   },
   "outputs": [],
   "source": [
    "from google.colab import drive\n",
    "drive.mount('/content/drive', force_remount=True)\n",
    "!unzip /content/drive/MyDrive/cs4100_data/spotify_million_playlist_dataset.zip\n",
    "!pip install ijson"
   ]
  },
  {
   "cell_type": "code",
   "execution_count": null,
   "metadata": {
    "colab": {
     "base_uri": "https://localhost:8080/"
    },
    "id": "MGIU_a3xE3eP",
    "outputId": "edb2c097-fa69-4a07-a50e-14c93b8a470d"
   },
   "outputs": [],
   "source": [
    "import ijson\n",
    "import glob\n",
    "from tqdm import tqdm\n",
    "import pandas as pd\n",
    "import numpy as np\n",
    "files = glob.glob(\"data/mpd.slice.*.json\")\n",
    "\n",
    "\n",
    "playlists = []\n",
    "songs_lst = []\n",
    "i = 0\n",
    "for filename in tqdm(files):\n",
    "\n",
    "  with open(filename, 'r') as f:\n",
    "    objects = ijson.items(f, 'playlists.item')\n",
    "    columns = list(objects)\n",
    "\n",
    "    column_names = [col[\"tracks\"] for col in columns]\n",
    "    \n",
    "    track_features_uri = []\n",
    "    track_features_name = []\n",
    "    track_features_artist_name = []\n",
    "    track_features_artist_uri = []\n",
    "    for playlist in column_names:\n",
    "      for track in playlist:\n",
    "        track_features_uri.append(track['track_uri'][14:])\n",
    "        track_features_name.append(track['track_name'])\n",
    "        track_features_artist_name.append(track['artist_name'])\n",
    "        track_features_artist_uri.append(track['artist_uri'])\n",
    "    \n",
    "    track_features = pd.DataFrame(zip(track_features_name, track_features_artist_name, track_features_artist_uri), columns=['track_name','artist_name','artist_uri'])\n",
    "    track_features[\"ids\"] = track_features_uri\n",
    "    track_features = track_features.drop_duplicates()\n",
    "    track_features = track_features.reset_index(drop=True)\n",
    "    songs_lst.append(track_features)\n",
    "    playlists += [[track[\"track_uri\"][14:] for track in p] for p in column_names]\n",
    "    if len(songs_lst) > 50:\n",
    "      new_df = pd.concat(songs_lst,ignore_index=True)\n",
    "      new_df = new_df.set_index('ids').drop_duplicates().reset_index()\n",
    "      songs_lst = [new_df]\n",
    "\n",
    "    if len(playlists) >= 100000:\n",
    "      with open('playlists_{}.npy'.format(i), 'wb') as f:\n",
    "        np.save(f, np.array(playlists))\n",
    "      i += 1\n",
    "      playlists = []\n",
    "songs = pd.concat(songs_lst,ignore_index=True).set_index('ids').drop_duplicates().reset_index()\n",
    "print(songs.shape)\n",
    "print(songs.ids.nunique())\n",
    "songs.head()\n"
   ]
  },
  {
   "cell_type": "code",
   "execution_count": null,
   "metadata": {
    "colab": {
     "base_uri": "https://localhost:8080/"
    },
    "id": "Kg9SsBFrE5v7",
    "outputId": "5d98f887-90f7-45c8-ff8b-3bfb4c01e3b1"
   },
   "outputs": [],
   "source": [
    "len(playlists)"
   ]
  },
  {
   "cell_type": "code",
   "execution_count": null,
   "metadata": {
    "id": "UUhuNejUdoYN"
   },
   "outputs": [],
   "source": [
    "songs = songs[['track_name', 'artist_name', 'artist_name', 'artist_uri', 'ids']]"
   ]
  },
  {
   "cell_type": "code",
   "execution_count": null,
   "metadata": {
    "colab": {
     "base_uri": "https://localhost:8080/"
    },
    "id": "NpXmjyGEJb-K",
    "outputId": "144dd585-ea84-4292-994b-70e85cd1c79c"
   },
   "outputs": [],
   "source": [
    "songs.shape"
   ]
  },
  {
   "cell_type": "code",
   "execution_count": null,
   "metadata": {
    "id": "Ro5-Uqm8Y8ud",
    "pycharm": {
     "is_executing": false,
     "name": "#%%\n"
    }
   },
   "outputs": [],
   "source": [
    "songs.to_csv('songs.csv')\n"
   ]
  }
 ],
 "metadata": {
  "colab": {
   "collapsed_sections": [],
   "name": "recommender.ipynb",
   "provenance": [],
   "toc_visible": true
  },
  "kernelspec": {
   "display_name": "Python 3",
   "language": "python",
   "name": "python3"
  },
  "language_info": {
   "codemirror_mode": {
    "name": "ipython",
    "version": 3
   },
   "file_extension": ".py",
   "mimetype": "text/x-python",
   "name": "python",
   "nbconvert_exporter": "python",
   "pygments_lexer": "ipython3",
   "version": "3.7.3"
  },
  "pycharm": {
   "stem_cell": {
    "cell_type": "raw",
    "source": [],
    "metadata": {
     "collapsed": false
    }
   }
  }
 },
 "nbformat": 4,
 "nbformat_minor": 1
}